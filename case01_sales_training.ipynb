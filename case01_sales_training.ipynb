# case01-sales-training
